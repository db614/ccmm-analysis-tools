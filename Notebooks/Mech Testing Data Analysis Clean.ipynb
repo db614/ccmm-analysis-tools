{
 "cells": [
  {
   "cell_type": "markdown",
   "id": "67fd2086",
   "metadata": {},
   "source": [
    "# Mechanical Test Analysis Workbook"
   ]
  },
  {
   "cell_type": "markdown",
   "id": "22502c28",
   "metadata": {},
   "source": [
    "Workbook for analysis mechanical testing data saved as csv files with three columns: time, force, and position. We additionally need a csv continaining the dimensions of each of the tested samples. "
   ]
  },
  {
   "cell_type": "markdown",
   "id": "c0784f61",
   "metadata": {},
   "source": [
    "## Data Analysis:"
   ]
  },
  {
   "cell_type": "code",
   "execution_count": null,
   "id": "83b2c9d1",
   "metadata": {},
   "outputs": [],
   "source": [
    "import pandas as pd\n",
    "from pathlib import Path\n",
    "import glob\n",
    "import matplotlib.pyplot as plt\n",
    "import seaborn as sns\n",
    "import math\n",
    "import numpy as np\n",
    "from scipy import stats\n",
    "%matplotlib inline"
   ]
  },
  {
   "cell_type": "code",
   "execution_count": null,
   "id": "864149f5",
   "metadata": {},
   "outputs": [],
   "source": [
    "path = r'C:\\Users\\djbar\\OneDrive - University Of Cambridge\\PhD\\Results\\Mech testing\\Organoids Project\\Subset Analysis'\n",
    "csv_files = glob.glob(path + '/v???.csv')\n",
    "\n",
    "df_dict = {}\n",
    "for file in csv_files:\n",
    "    df = pd.read_csv(file)\n",
    "    df['Sample'] = Path(file).stem\n",
    "    df_dict[Path(file).stem] = df\n",
    "\n",
    "sample_dimensions = pd.read_csv('sample_details.csv')"
   ]
  },
  {
   "cell_type": "markdown",
   "id": "defd9aeb",
   "metadata": {},
   "source": [
    "We find the index values of the divider lines. We know these lines come after the first data set, then before and after all following datasets. We want to fill the \"Repeat\" column with the tray row number, so we can track where the data is from. This should be an integer from 1-3 normally. We then remove the rows with the separator data.\n"
   ]
  },
  {
   "cell_type": "code",
   "execution_count": null,
   "id": "7e273285",
   "metadata": {},
   "outputs": [],
   "source": [
    "for df in df_dict.values():\n",
    "    df['Repeat'] = np.nan\n",
    "    start_end_index = df.loc[df['Time (min)'] == 'xxxxxxxxxxxxxxxxxxxxxxxxxxxxxxxxxxxxxxxxxxxxxxxxxxxxxxxxxxxxxxxxxxxxxxxxxxxxxxxxxxxxxxxxxxxxxxxxxxxxxxxxxxxxxx'].index.values\n",
    "\n",
    "    for i in range(int(len(start_end_index) / 2)):\n",
    "        if i == 0:\n",
    "            df.loc[:start_end_index[0], 'Repeat'] = 1\n",
    "        else:\n",
    "            df.loc[start_end_index[(i*2)-1]:start_end_index[i*2], 'Repeat'] = i+1\n",
    "        \n"
   ]
  },
  {
   "cell_type": "code",
   "execution_count": null,
   "id": "96d156ca",
   "metadata": {},
   "outputs": [],
   "source": [
    "all_data = pd.concat(df_dict.values(), ignore_index=True)"
   ]
  },
  {
   "cell_type": "markdown",
   "id": "37fa714d",
   "metadata": {},
   "source": [
    "Convert the time, force, position columns to numeric, coerce the errors so that the repeated headers become \"NaN\", then drop those rows."
   ]
  },
  {
   "cell_type": "code",
   "execution_count": null,
   "id": "0aedfca1",
   "metadata": {
    "scrolled": true
   },
   "outputs": [],
   "source": [
    "cols = ['Time (min)', 'Force (N)', 'Position (mm)']\n",
    "all_data[cols] = all_data[cols].apply(pd.to_numeric, errors='coerce')\n",
    "all_data.dropna(inplace=True)"
   ]
  },
  {
   "cell_type": "code",
   "execution_count": null,
   "id": "5e45781b",
   "metadata": {
    "scrolled": true
   },
   "outputs": [],
   "source": [
    "sample_dimensions.head()"
   ]
  },
  {
   "cell_type": "code",
   "execution_count": null,
   "id": "84b3afd8",
   "metadata": {
    "scrolled": false
   },
   "outputs": [],
   "source": [
    "all_data.info()"
   ]
  },
  {
   "cell_type": "markdown",
   "id": "25904286",
   "metadata": {},
   "source": [
    "Write a function to take the main dataframe and the dataframe containing the sample attributes, combine them into a single df and trim the unwanted high and low values."
   ]
  },
  {
   "cell_type": "code",
   "execution_count": null,
   "id": "74b46c08",
   "metadata": {},
   "outputs": [],
   "source": [
    "def trim_clean_data(main_df, sample_dimensions, min_force=0.01, rolling=50):\n",
    "    for row in sample_dimensions.values:\n",
    "        try:\n",
    "            sample = row[0]\n",
    "            repeat = int(row[1])\n",
    "            mask = (main_df['Sample'] == sample) & (main_df['Repeat'] == repeat)\n",
    "\n",
    "            #If we don't start the position at 0 for some reason (failure to set on the testing machine), subtract the first position value from all\n",
    "            if main_df.loc[mask, 'Position (mm)'].iloc[0] != 0:\n",
    "                main_df.loc[mask, 'Position (mm)'] = main_df.loc[mask, 'Position (mm)'] - float(main_df.loc[mask, 'Position (mm)'].iloc[0])\n",
    "\n",
    "            #Add the additional data calculated from the sample details dataset\n",
    "            main_df.loc[mask, 'Height'] = row[2]\n",
    "            main_df.loc[mask, 'Original Diameter'] = row[3]\n",
    "            main_df.loc[mask, 'Strain'] = (main_df.loc[mask, 'Position (mm)'] / float(row[2]))\n",
    "            main_df.loc[mask, 'Stress (Pa)'] = main_df.loc[mask, 'Force (N)'] / (((float(row[3]) / (2 * 1000)) ** 2) * math.pi) #Convert from mm to m\n",
    "            main_df.loc[mask, 'Stress_roll_avg'] = main_df.loc[mask, 'Stress (Pa)'].rolling(50).mean().shift(-30)\n",
    "            main_df.loc[mask, 'Crosslinking (%)'] = float(row[4])\n",
    "            main_df.loc[mask, 'Collagen (%)'] = float(row[5])\n",
    "            main_df.loc[mask, 'Elastin (%)'] = float(row[6])\n",
    "        except:\n",
    "            pass\n",
    "        \n",
    "        '''\n",
    "        #Trim the unwated values > max and below a minimum force.Probably don't need to do this at all.\n",
    "        max_index = main_df.loc[mask, 'Force (N)'].idxmax()\n",
    "        main_df.drop(main_df.index[max_index + 1: main_df.loc[mask].last_valid_index() + 1], inplace=True)\n",
    "        \n",
    "        This works but do we even need to do it? Might make no difference, especially if we aren't then subtracting the values from everything else to \"reset\"\n",
    "        \n",
    "        min_index = np.argmax(main_df.loc[mask, 'Force (N)'] > min_force)\n",
    "        main_df.drop(main_df.index[main_df.loc[mask].first_valid_index(): main_df.loc[mask].first_valid_index() + min_index], inplace=True)\n",
    "        '''\n",
    "        "
   ]
  },
  {
   "cell_type": "code",
   "execution_count": null,
   "id": "d1bf7c09",
   "metadata": {},
   "outputs": [],
   "source": [
    "trim_clean_data(main_df=all_data, sample_dimensions=sample_dimensions, rolling=50)"
   ]
  },
  {
   "cell_type": "markdown",
   "id": "d2f4b0eb",
   "metadata": {},
   "source": [
    "Use scipy.stats.linregress to get a linear regression line for each of the repeat cases, between set values of the strain. "
   ]
  },
  {
   "cell_type": "code",
   "execution_count": null,
   "id": "96dc202a",
   "metadata": {},
   "outputs": [],
   "source": [
    "def lin_regress_calc(df, min_strain, max_strain):\n",
    "    results_list = []\n",
    "    for sample in df['Sample'].unique():\n",
    "        for repeat in range(1,4):         \n",
    "            df2 = df.loc[(df['Sample'] == sample) & (df['Repeat'] == repeat) & \n",
    "                        (df['Strain'] > min_strain) & (df['Strain'] < max_strain)].copy()\n",
    "            if len(df2) != 0:\n",
    "                result = stats.linregress(x=df2['Strain'].values, y=df2['Stress_roll_avg'].values)\n",
    "                results_list.append([sample, repeat, result.slope, result.rvalue, result.stderr])\n",
    "                #print(f'Sample: {sample} Repeat:{repeat} complete')\n",
    "    df = pd.DataFrame(results_list, columns=['Sample', 'Repeat', 'Gradient', 'Rvalue', 'StdErr'])\n",
    "    return df\n"
   ]
  },
  {
   "cell_type": "code",
   "execution_count": null,
   "id": "aa472df2",
   "metadata": {
    "scrolled": true
   },
   "outputs": [],
   "source": [
    "lin_regression_results = lin_regress_calc(df=all_data, min_strain=0.02, max_strain=0.15)"
   ]
  },
  {
   "cell_type": "code",
   "execution_count": null,
   "id": "1486ea33",
   "metadata": {},
   "outputs": [],
   "source": [
    "lin_regression_results"
   ]
  },
  {
   "cell_type": "markdown",
   "id": "5ab1135b",
   "metadata": {},
   "source": [
    "We drop any values that are negative or with a low R"
   ]
  },
  {
   "cell_type": "code",
   "execution_count": null,
   "id": "5741bb06",
   "metadata": {},
   "outputs": [],
   "source": [
    "lin_regression_results.loc[lin_regression_results['Rvalue'] < 0.6] = np.nan"
   ]
  },
  {
   "cell_type": "code",
   "execution_count": null,
   "id": "bb9e493c",
   "metadata": {
    "scrolled": true
   },
   "outputs": [],
   "source": [
    "grouped = lin_regression_results.groupby('Sample')\n",
    "grouped[['Gradient', 'Rvalue', 'StdErr']].describe()"
   ]
  },
  {
   "cell_type": "code",
   "execution_count": null,
   "id": "8afa235c",
   "metadata": {
    "scrolled": false
   },
   "outputs": [],
   "source": [
    "merged_results = pd.merge(left=sample_dimensions, right=lin_regression_results, on=[\"Sample\", \"Repeat\"])\n",
    "merged_results.groupby(['Elastin (%)', 'Crosslinking (%)'])['Gradient'].describe()"
   ]
  },
  {
   "cell_type": "markdown",
   "id": "c430e9d9",
   "metadata": {},
   "source": [
    "## Graphical Analysis"
   ]
  },
  {
   "cell_type": "code",
   "execution_count": null,
   "id": "7aaf2f4c",
   "metadata": {},
   "outputs": [],
   "source": [
    "ax = sns.barplot(data=merged_results.loc[merged_results['Elastin (%)'] == 0], x='Crosslinking (%)', y='Gradient', errorbar=\"sd\")\n",
    "ax.set(ylabel=\"Young's Modulus (Pa)\")"
   ]
  },
  {
   "cell_type": "code",
   "execution_count": null,
   "id": "88670377",
   "metadata": {},
   "outputs": [],
   "source": [
    "ax = sns.barplot(data=merged_results.loc[merged_results['Elastin (%)'] != 0], x='Elastin (%)', y='Gradient', errorbar=\"sd\")\n",
    "ax.set(ylabel=\"Young's Modulus (Pa)\")"
   ]
  },
  {
   "cell_type": "markdown",
   "id": "b6ede9cd",
   "metadata": {},
   "source": [
    "## Results Plots"
   ]
  },
  {
   "cell_type": "markdown",
   "id": "8503bab5",
   "metadata": {},
   "source": [
    "Test plot making sure the linear regression produces a sensible looking prediction."
   ]
  },
  {
   "cell_type": "code",
   "execution_count": null,
   "id": "3d767f9d",
   "metadata": {},
   "outputs": [],
   "source": [
    "df_2 = all_data.loc[(all_data['Sample'] == 'v009') & (all_data['Repeat'] == 3) &\n",
    "                   (all_data['Strain'] > 0.0) & (all_data['Strain'] < 0.5)]\n",
    "\n",
    "df_3 = all_data.loc[(all_data['Sample'] == 'v009') & (all_data['Repeat'] == 3) & \n",
    "                        (all_data['Strain'] > 0.01) & (all_data['Strain'] < 0.15)]\n",
    "\n",
    "#sns.scatterplot(data=df_2, x='Strain (%)', y='Stress (Pa)')\n",
    "\n",
    "rel = stats.linregress(df_3['Strain'], df_3['Stress (Pa)'])\n",
    "sns.relplot(data=df_2, x='Strain', y='Stress_roll_avg', kind='line')\n",
    "plt.plot(df_2['Strain'], rel.intercept + rel.slope*df_2['Strain'], 'r')"
   ]
  },
  {
   "cell_type": "markdown",
   "id": "0a0a9cae",
   "metadata": {},
   "source": [
    "Young's Modulus plots of the linear regression results. With 95% confidence intervals at the moment. "
   ]
  },
  {
   "cell_type": "code",
   "execution_count": null,
   "id": "d73fd6a9",
   "metadata": {
    "scrolled": true
   },
   "outputs": [],
   "source": [
    "ax = sns.catplot(data=lin_regression_results,\n",
    "           x='Sample',\n",
    "           y='Gradient',\n",
    "           kind='box'\n",
    "           )\n",
    "ax.set(ylabel=\"Young's Modulus (Pa)\")"
   ]
  }
 ],
 "metadata": {
  "kernelspec": {
   "display_name": "Python 3 (ipykernel)",
   "language": "python",
   "name": "python3"
  },
  "language_info": {
   "codemirror_mode": {
    "name": "ipython",
    "version": 3
   },
   "file_extension": ".py",
   "mimetype": "text/x-python",
   "name": "python",
   "nbconvert_exporter": "python",
   "pygments_lexer": "ipython3",
   "version": "3.10.9"
  }
 },
 "nbformat": 4,
 "nbformat_minor": 5
}
