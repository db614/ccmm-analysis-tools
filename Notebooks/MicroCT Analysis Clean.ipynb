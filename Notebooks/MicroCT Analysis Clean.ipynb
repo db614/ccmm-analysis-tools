{
 "cells": [
  {
   "cell_type": "markdown",
   "id": "b255928c",
   "metadata": {},
   "source": [
    "# Micro-CT Data Analysis Workbook\n",
    "\n",
    "An analysis notebook for micro-CT data geneated by Bruker SkyScan micro-CT instruments. Data is extracted from batman files, grouped, plotted with response to independent variables, and statistical analysis carried out to look for significance."
   ]
  },
  {
   "cell_type": "code",
   "execution_count": null,
   "id": "b38f7918",
   "metadata": {},
   "outputs": [],
   "source": [
    "import glob\n",
    "import pandas as pd\n",
    "import numpy as np\n",
    "from pathlib import Path\n"
   ]
  },
  {
   "cell_type": "code",
   "execution_count": null,
   "id": "0c9a5a1e",
   "metadata": {},
   "outputs": [],
   "source": [
    "path = r'path\\to\\analysis\\files'\n",
    "batman_files = glob.glob(path + '/**/*.batman.txt')\n",
    "\n",
    "def batman_extract_and_add(batman_list):\n",
    "    '''\n",
    "    Takes the list of batman text files and extracts the sample name, original plate, row, repeat, and voi from the filename. \n",
    "    We also set the elastin percentage and crosslinking percentage for known plate numbers. We then read lines from the batman\n",
    "    to extract the pixel size, pore size, and porosity. \n",
    "    \n",
    "    Return: dataframe\n",
    "    '''\n",
    "    params_list = []\n",
    "    for file in batman_list:\n",
    "        name_split = Path(file).stem.split('_')\n",
    "        original_plate = name_split[0]       \n",
    "        condition = name_split[1]\n",
    "        row = name_split[2]\n",
    "        repeat = name_split[3]\n",
    "        voi = name_split[-1].split('.')[0]\n",
    "        \n",
    "        if original_plate.lower() == 's008':\n",
    "            crosslinking = condition\n",
    "            elastin = '0'\n",
    "        elif original_plate.lower() == 's011':\n",
    "            elastin = condition\n",
    "            crosslinking = '30'\n",
    "        else:\n",
    "            elastin = np.nan\n",
    "            crosslinking = np.nan\n",
    "            \n",
    "        #print(f'Plate: {original_plate}, Condition: {condition}, Row: {row}, Repeat: {repeat}, Voi: {voi}, Elastin: {elastin}, XL: {crosslinking}')\n",
    "        with open(file) as f:\n",
    "            for line in f:\n",
    "                split = line.split(',')\n",
    "                if split[0] == 'Pixel size':\n",
    "                    pixel_size = split[-2]\n",
    "                elif split[0] == 'Structure separation':\n",
    "                    pore_size_um = float(split[-2]) * 1000\n",
    "                elif split[0] == 'Total porosity (percent)':\n",
    "                    porosity_perc = split[-2]\n",
    "        params_list.append([original_plate, condition, row, repeat, voi, pixel_size, pore_size_um, porosity_perc, \n",
    "                            crosslinking, elastin])\n",
    "    \n",
    "    \n",
    "    columns = ['original_plate', 'condition', 'row', 'repeat', 'voi', 'pixel_size_um', 'pore_size_um', 'porosity_perc', \n",
    "               'crosslinking', 'elastin']\n",
    "    ct_df = pd.DataFrame(data=params_list, columns=columns)\n",
    "    cols = ['pixel_size_um', 'pore_size_um', 'porosity_perc', 'crosslinking', 'elastin']\n",
    "    ct_df[cols] = ct_df[cols].apply(pd.to_numeric)\n",
    "    \n",
    "    return ct_df\n",
    "                    "
   ]
  },
  {
   "cell_type": "code",
   "execution_count": null,
   "id": "72cb4f6a",
   "metadata": {
    "scrolled": true
   },
   "outputs": [],
   "source": [
    "ct_df = batman_extract_and_add(batman_files)"
   ]
  },
  {
   "cell_type": "code",
   "execution_count": null,
   "id": "f067434f",
   "metadata": {},
   "outputs": [],
   "source": [
    "ct_df.info()"
   ]
  },
  {
   "cell_type": "code",
   "execution_count": null,
   "id": "48e86e48",
   "metadata": {
    "scrolled": true
   },
   "outputs": [],
   "source": [
    "ct_df.describe()"
   ]
  },
  {
   "cell_type": "code",
   "execution_count": null,
   "id": "19272212",
   "metadata": {
    "scrolled": false
   },
   "outputs": [],
   "source": [
    "grouped = ct_df.groupby(['crosslinking', 'elastin'])[['pore_size_um', 'porosity_perc']]\n",
    "grouped.describe()"
   ]
  },
  {
   "cell_type": "code",
   "execution_count": null,
   "id": "d64c15ed",
   "metadata": {
    "scrolled": true
   },
   "outputs": [],
   "source": [
    "ct_df[['crosslinking', 'elastin', 'pore_size_um', 'porosity_perc']].corr(numeric_only=False)"
   ]
  },
  {
   "cell_type": "markdown",
   "id": "2ee07b0b",
   "metadata": {},
   "source": [
    "### Graphical Analysis"
   ]
  },
  {
   "cell_type": "code",
   "execution_count": null,
   "id": "5c85142c",
   "metadata": {
    "scrolled": true
   },
   "outputs": [],
   "source": [
    "import seaborn as sns\n",
    "%matplotlib inline\n",
    "\n",
    "sns.set_style()\n",
    "ax = sns.barplot(data=ct_df, x='crosslinking', y='pore_size_um', errorbar=\"sd\")\n",
    "ax.set_ylabel('Pore Size (um)')\n",
    "ax.set_xlabel('Crosslinking (%)')\n",
    "ax.set_title('Pore Size vs Crosslinking Percentage \\n in 1% Collagen Scaffolds')"
   ]
  },
  {
   "cell_type": "code",
   "execution_count": null,
   "id": "fa984ded",
   "metadata": {
    "scrolled": true
   },
   "outputs": [],
   "source": [
    "import seaborn as sns\n",
    "%matplotlib inline\n",
    "\n",
    "sns.set_style()\n",
    "ax = sns.barplot(data=ct_df, x='elastin', y='pore_size_um', errorbar=\"sd\")\n",
    "ax.set_ylabel('Pore Size (um)')\n",
    "ax.set_xlabel('Elastin (%)')\n",
    "ax.set_title('Pore Size vs Elastin Percentage \\n in 1% Collagen Scaffolds')"
   ]
  },
  {
   "cell_type": "markdown",
   "id": "52be8aae",
   "metadata": {},
   "source": [
    "### Statistical Analysis"
   ]
  },
  {
   "cell_type": "markdown",
   "id": "a9302a55",
   "metadata": {},
   "source": [
    "Calculating the ANOVA for the s008 samples, with varying crosslinking. First we separate the data into a series of series, then pass to the scipy anova test."
   ]
  },
  {
   "cell_type": "code",
   "execution_count": null,
   "id": "3c6b4e61",
   "metadata": {},
   "outputs": [],
   "source": [
    "from scipy import stats\n",
    "\n",
    "arrays = []\n",
    "for value in ct_df.loc[(ct_df['original_plate'] == 's008'), 'crosslinking'].unique():\n",
    "    arrays.append(ct_df.loc[(ct_df['original_plate'] == 's008') & (ct_df['crosslinking'] == value), 'pore_size_um'])\n",
    "\n",
    "stats.f_oneway(arrays[0], arrays[1], arrays[2], arrays[3], arrays[4], arrays[5])\n"
   ]
  },
  {
   "cell_type": "markdown",
   "id": "3c9d5aee",
   "metadata": {},
   "source": [
    "Similar analysis for the different elastin concentrations is below:"
   ]
  },
  {
   "cell_type": "code",
   "execution_count": null,
   "id": "c373284c",
   "metadata": {},
   "outputs": [],
   "source": [
    "from scipy import stats\n",
    "\n",
    "arrays = []\n",
    "for value in ct_df.loc[(ct_df['original_plate'] == 's011'), 'elastin'].unique():\n",
    "    arrays.append(ct_df.loc[(ct_df['original_plate'] == 's011') & (ct_df['elastin'] == value), 'pore_size_um'])\n",
    "\n",
    "stats.f_oneway(arrays[0], arrays[1], arrays[2], arrays[3], arrays[4], arrays[5])"
   ]
  },
  {
   "cell_type": "markdown",
   "id": "4c29a1a6",
   "metadata": {},
   "source": [
    "Similar analysis but not restricting the analysis to the different plates, incorporating all the data from all runs:"
   ]
  },
  {
   "cell_type": "code",
   "execution_count": null,
   "id": "f7333b8c",
   "metadata": {},
   "outputs": [],
   "source": [
    "\n",
    "arrays = []\n",
    "for value in ct_df['elastin'].unique():\n",
    "    arrays.append(ct_df.loc[ct_df['elastin'] == value, 'pore_size_um'])\n",
    "\n",
    "stats.f_oneway(arrays[0], arrays[1], arrays[2], arrays[3], arrays[4], arrays[5])"
   ]
  },
  {
   "cell_type": "code",
   "execution_count": null,
   "id": "ae155cff",
   "metadata": {},
   "outputs": [],
   "source": [
    "\n",
    "arrays = []\n",
    "for value in ct_df['crosslinking'].unique():\n",
    "    arrays.append(ct_df.loc[ct_df['crosslinking'] == value, 'pore_size_um'])\n",
    "\n",
    "stats.f_oneway(arrays[0], arrays[1], arrays[2], arrays[3], arrays[4], arrays[5])"
   ]
  }
 ],
 "metadata": {
  "kernelspec": {
   "display_name": "Python 3 (ipykernel)",
   "language": "python",
   "name": "python3"
  },
  "language_info": {
   "codemirror_mode": {
    "name": "ipython",
    "version": 3
   },
   "file_extension": ".py",
   "mimetype": "text/x-python",
   "name": "python",
   "nbconvert_exporter": "python",
   "pygments_lexer": "ipython3",
   "version": "3.10.9"
  }
 },
 "nbformat": 4,
 "nbformat_minor": 5
}
